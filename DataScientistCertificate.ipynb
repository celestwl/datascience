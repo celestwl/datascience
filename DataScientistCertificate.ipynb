{
 "cells": [
  {
   "cell_type": "markdown",
   "metadata": {},
   "source": [
    "Playgroud"
   ]
  },
  {
   "cell_type": "code",
   "execution_count": 4,
   "metadata": {},
   "outputs": [
    {
     "data": {
      "text/plain": [
       "0"
      ]
     },
     "execution_count": 4,
     "metadata": {},
     "output_type": "execute_result"
    }
   ],
   "source": [
    "int(3.99)\n",
    "int(False)\n",
    "3//2"
   ]
  },
  {
   "cell_type": "code",
   "execution_count": 17,
   "metadata": {},
   "outputs": [
    {
     "name": "stdout",
     "output_type": "stream",
     "text": [
      "Li\n",
      "946\n",
      "12\n",
      "1\n"
     ]
    }
   ],
   "source": [
    "name = 'Lizz'\n",
    "print(name[0:2])\n",
    "A='1934567'\n",
    "print(A[1::2])\n",
    "print('1'+'2')\n",
    "Name=\"ABCDE\"\n",
    "print(Name.find(\"B\"))"
   ]
  },
  {
   "cell_type": "code",
   "execution_count": null,
   "metadata": {},
   "outputs": [],
   "source": [
    "compiling language\n",
    "interpret language"
   ]
  },
  {
   "cell_type": "markdown",
   "metadata": {},
   "source": [
    "Tuples are Immutable\n",
    " and can Nest"
   ]
  },
  {
   "cell_type": "markdown",
   "metadata": {},
   "source": [
    "List are 1)Mutable and can 2)Nest and 3)Aliasing"
   ]
  },
  {
   "cell_type": "code",
   "execution_count": 32,
   "metadata": {},
   "outputs": [
    {
     "name": "stdout",
     "output_type": "stream",
     "text": [
      "['1', 2, '3', 'pop', 10]\n",
      "['1', 2, '3', 'pop', 10, ['pop', 10]]\n",
      "['changed', 2, '3', 'pop', 10, ['pop', 10]]\n",
      "delete 2\n",
      "['changed', '3', 'pop', 10, ['pop', 10]]\n",
      "['new', '3', 'pop', 10, ['pop', 10]]\n",
      "['new', '3', 'pop', 10, ['pop', 10]]\n"
     ]
    },
    {
     "data": {
      "text/plain": [
       "['1', '2', '3', '4']"
      ]
     },
     "execution_count": 32,
     "metadata": {},
     "output_type": "execute_result"
    }
   ],
   "source": [
    "L=['1',2,'3']\n",
    "L.extend([\"pop\",10])\n",
    "print(L)\n",
    "L.append(['pop',10])\n",
    "print(L)\n",
    "L[0]='changed'\n",
    "print(L)\n",
    "del(L[1])\n",
    "print('delete 2')\n",
    "print(L)\n",
    "\n",
    "#Aliasing by copy\n",
    "B=A=L\n",
    "A[0]='new'\n",
    "print(B)\n",
    "#clone (no aliasing)\n",
    "B=A[:]\n",
    "A[0]='new2'\n",
    "print(B)\n",
    "len((\"disco\",10))\n",
    "'1,2,3,4'.split(',')"
   ]
  },
  {
   "cell_type": "markdown",
   "metadata": {},
   "source": [
    "Dictionary: key has to be immutable and unique"
   ]
  },
  {
   "cell_type": "markdown",
   "metadata": {},
   "source": [
    "Set: Unique type casting"
   ]
  },
  {
   "cell_type": "code",
   "execution_count": 36,
   "metadata": {},
   "outputs": [
    {
     "name": "stdout",
     "output_type": "stream",
     "text": [
      "{'b', 'c', 'A'}\n",
      "{'c', 'A'}\n"
     ]
    }
   ],
   "source": [
    "A={'A',\"b\"}\n",
    "A.add('c')\n",
    "print(A)\n",
    "A.remove('b')\n",
    "print(A)\n",
    "#union\n",
    "#set1.union(set2)\n",
    "#set1.issubset(set2)"
   ]
  },
  {
   "cell_type": "markdown",
   "metadata": {},
   "source": [
    "Conditions and Branching"
   ]
  },
  {
   "cell_type": "code",
   "execution_count": null,
   "metadata": {},
   "outputs": [],
   "source": []
  },
  {
   "cell_type": "code",
   "execution_count": null,
   "metadata": {},
   "outputs": [],
   "source": []
  },
  {
   "cell_type": "code",
   "execution_count": null,
   "metadata": {},
   "outputs": [],
   "source": []
  },
  {
   "cell_type": "code",
   "execution_count": null,
   "metadata": {},
   "outputs": [],
   "source": []
  },
  {
   "cell_type": "code",
   "execution_count": null,
   "metadata": {},
   "outputs": [],
   "source": []
  }
 ],
 "metadata": {
  "kernelspec": {
   "display_name": "Python 3",
   "language": "python",
   "name": "python3"
  },
  "language_info": {
   "codemirror_mode": {
    "name": "ipython",
    "version": 3
   },
   "file_extension": ".py",
   "mimetype": "text/x-python",
   "name": "python",
   "nbconvert_exporter": "python",
   "pygments_lexer": "ipython3",
   "version": "3.6.8"
  }
 },
 "nbformat": 4,
 "nbformat_minor": 2
}

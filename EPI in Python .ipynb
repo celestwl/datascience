{
 "cells": [
  {
   "cell_type": "markdown",
   "metadata": {},
   "source": [
    "4.1 Parity. "
   ]
  },
  {
   "cell_type": "code",
   "execution_count": 4,
   "metadata": {},
   "outputs": [],
   "source": [
    "def parity(x):\n",
    "    result = 0\n",
    "    while x:\n",
    "        result ^= x & 1\n",
    "        x >>= 1\n",
    "    return result"
   ]
  },
  {
   "cell_type": "markdown",
   "metadata": {},
   "source": [
    "4.7 power_x_y\n",
    "Mathematical properties of exponentiation\n",
    "Speedup by squring\n",
    "Least significant bit and most significant bit\n"
   ]
  },
  {
   "cell_type": "code",
   "execution_count": null,
   "metadata": {},
   "outputs": [],
   "source": [
    "def power(x, y):\n",
    "    result, power = 1.0, y\n",
    "    if y < 0:\n",
    "        power, x = -power, 1.0 / x\n",
    "    while power:\n",
    "        if power & 1:\n",
    "            result *= x\n",
    "        x, power = x * x, power >> 1\n",
    "    return result"
   ]
  },
  {
   "cell_type": "markdown",
   "metadata": {},
   "source": [
    "4.8 Reverse Digits\n",
    "Coner Cases: X is negtive or positive?"
   ]
  },
  {
   "cell_type": "code",
   "execution_count": null,
   "metadata": {},
   "outputs": [],
   "source": [
    "def reverse(x):\n",
    "\n",
    "    result, x_remaining = 0, abs(x)\n",
    "    while x_remaining:\n",
    "        result = result * 10 + x_remaining % 10\n",
    "        x_remaining //= 10\n",
    "    return -result if x < 0 else result"
   ]
  },
  {
   "cell_type": "markdown",
   "metadata": {},
   "source": [
    "5.1 DutchFlag\n",
    "\n",
    "Thinking about quicksort:\n",
    "\n",
    "Like Merge Sort, QuickSort is a Divide and Conquer algorithm. It picks an element as pivot and partitions the given array around the picked pivot.\n",
    "\n",
    "Time:O(n) Space:O(1)"
   ]
  },
  {
   "cell_type": "code",
   "execution_count": null,
   "metadata": {},
   "outputs": [],
   "source": [
    "import functools\n",
    "RED, WHITE, BLUE = range(3)\n",
    "def dutch_flag_partition(pivot_index, A):\n",
    "    pivot = A[pivot_index]\n",
    "    # Keep the following invariants during partitioning:\n",
    "    # bottom group: A[:smaller].\n",
    "    # middle group: A[smaller:equal].\n",
    "    # unclassified group: A[equal:larger].\n",
    "    # top group: A[larger:].\n",
    "    smaller, equal, larger = 0, 0, len(A)\n",
    "    # Keep iterating as long as there is an unclassified element.\n",
    "    while equal < larger:\n",
    "        # A[equal] is the incoming unclassified element.\n",
    "        if A[equal] < pivot:\n",
    "            A[smaller], A[equal] = A[equal], A[smaller]\n",
    "            smaller, equal = smaller + 1, equal + 1\n",
    "        elif A[equal] == pivot:\n",
    "            equal += 1 #means you take one more member in this group\n",
    "        else:  # A[equal] > pivot.\n",
    "            larger -= 1\n",
    "            A[equal], A[larger] = A[larger], A[equal]"
   ]
  },
  {
   "cell_type": "markdown",
   "metadata": {},
   "source": [
    "5.6 Buy and sell stock once\n",
    "\n",
    "Focus on the valid differences rather than only look for min and max as min may appear after max"
   ]
  },
  {
   "cell_type": "code",
   "execution_count": null,
   "metadata": {},
   "outputs": [],
   "source": [
    "def buy_and_sell_stock_once(prices):\n",
    "    min_price_so_far, max_profit = float('inf'), 0.0\n",
    "    for price in prices:\n",
    "        max_profit_sell_today = price - min_price_so_far\n",
    "        max_profit = max(max_profit, max_profit_sell_today)\n",
    "        min_price_so_far = min(min_price_so_far, price)\n",
    "    return max_profit"
   ]
  },
  {
   "cell_type": "markdown",
   "metadata": {},
   "source": [
    "5.12 Random sampling\n",
    "Time complexity O(k) Space O(1)"
   ]
  },
  {
   "cell_type": "code",
   "execution_count": null,
   "metadata": {},
   "outputs": [],
   "source": [
    "def random_sampling(k,A):\n",
    "    for i in range(k):\n",
    "        r=random.randint(i,len(A)-1)\n",
    "        A[i],A[r]=A[r],A[i]"
   ]
  },
  {
   "cell_type": "markdown",
   "metadata": {},
   "source": [
    "5.18 Spiral ordering of a 2D array"
   ]
  },
  {
   "cell_type": "code",
   "execution_count": null,
   "metadata": {},
   "outputs": [],
   "source": [
    "def matrix_in_spiral_order(square_matrix):\n",
    "\n",
    "    SHIFT = ((0, 1), (1, 0), (0, -1), (-1, 0))\n",
    "    direction = x = y = 0\n",
    "    spiral_ordering = []\n",
    "\n",
    "    for _ in range(len(square_matrix)**2):\n",
    "        spiral_ordering.append(square_matrix[x][y])\n",
    "        square_matrix[x][y] = 0\n",
    "        next_x, next_y = x + SHIFT[direction][0], y + SHIFT[direction][1]\n",
    "        if (next_x not in range(len(square_matrix))\n",
    "                or next_y not in range(len(square_matrix))\n",
    "                or square_matrix[next_x][next_y] == 0):\n",
    "            direction = (direction + 1) & 3\n",
    "            next_x, next_y = x + SHIFT[direction][0], y + SHIFT[direction][1]\n",
    "        x, y = next_x, next_y\n",
    "    return spiral_ordering"
   ]
  },
  {
   "cell_type": "markdown",
   "metadata": {},
   "source": [
    "6.1 Int to String"
   ]
  },
  {
   "cell_type": "code",
   "execution_count": null,
   "metadata": {},
   "outputs": [],
   "source": []
  },
  {
   "cell_type": "markdown",
   "metadata": {},
   "source": [
    "6.2Base conversion"
   ]
  },
  {
   "cell_type": "code",
   "execution_count": null,
   "metadata": {},
   "outputs": [],
   "source": [
    "import functools\n",
    "import string\n",
    "\n",
    "from test_framework import generic_test\n",
    "\n",
    "\n",
    "def convert_base(num_as_string, b1, b2):\n",
    "    def construct_from_base(num_as_int, base):\n",
    "        return ('' if num_as_int == 0 else\n",
    "                construct_from_base(num_as_int // base, base) +\n",
    "                string.hexdigits[num_as_int % base].upper())\n",
    "\n",
    "    is_negative = num_as_string[0] == '-'\n",
    "    num_as_int = functools.reduce(\n",
    "        lambda x, c: x * b1 + string.hexdigits.index(c.lower()),\n",
    "        num_as_string[is_negative:], 0)\n",
    "    return ('-' if is_negative else '') + ('0' if num_as_int == 0 else\n",
    "                                           construct_from_base(num_as_int, b2))"
   ]
  },
  {
   "cell_type": "markdown",
   "metadata": {},
   "source": [
    "6.4 Replace and remove"
   ]
  },
  {
   "cell_type": "code",
   "execution_count": null,
   "metadata": {},
   "outputs": [],
   "source": [
    "def replace_and_remove(size, s):\n",
    "    # Forward iteration: remove 'b's and count the number of 'a's.\n",
    "    write_idx, a_count = 0, 0\n",
    "    for i in range(size):\n",
    "        if s[i] != 'b':\n",
    "            s[write_idx] = s[i]\n",
    "            write_idx += 1\n",
    "        if s[i] == 'a':\n",
    "            a_count += 1\n",
    "    # Backward iteration: replace 'a's with 'dd's starting from the end.\n",
    "    cur_idx = write_idx - 1\n",
    "    write_idx += a_count - 1\n",
    "    final_size = write_idx + 1\n",
    "    while cur_idx >= 0:\n",
    "        if s[cur_idx] == 'a':\n",
    "            s[write_idx - 1:write_idx + 1] = 'dd'\n",
    "            write_idx -= 2\n",
    "        else:\n",
    "            s[write_idx] = s[cur_idx]\n",
    "            write_idx -= 1\n",
    "        cur_idx -= 1\n",
    "    return final_size"
   ]
  },
  {
   "cell_type": "markdown",
   "metadata": {},
   "source": [
    "7.1 Merge two sorted list"
   ]
  },
  {
   "cell_type": "code",
   "execution_count": null,
   "metadata": {},
   "outputs": [],
   "source": [
    "def merge_two_sorted_lists(L1, L2):\n",
    "\n",
    "    # Creates a placeholder for the result.\n",
    "    dummy_head = tail = ListNode()\n",
    "\n",
    "    while L1 and L2:\n",
    "        if L1.data < L2.data:\n",
    "            tail.next, L1 = L1, L1.next\n",
    "        else:\n",
    "            tail.next, L2 = L2, L2.next\n",
    "        tail = tail.next\n",
    "\n",
    "    # Appends the remaining nodes of L1 or L2\n",
    "    tail.next = L1 or L2\n",
    "    return dummy_head.next"
   ]
  },
  {
   "cell_type": "markdown",
   "metadata": {},
   "source": [
    "7.2 Reverse list"
   ]
  },
  {
   "cell_type": "code",
   "execution_count": null,
   "metadata": {},
   "outputs": [],
   "source": [
    "def reverse_sublist(L, start, finish):\n",
    "\n",
    "    dummy_head = sublist_head = ListNode(0, L)\n",
    "    for _ in range(1, start):\n",
    "        sublist_head = sublist_head.next\n",
    "\n",
    "    # Reverses sublist.\n",
    "    sublist_iter = sublist_head.next\n",
    "    for _ in range(finish - start):\n",
    "        temp = sublist_iter.next\n",
    "        sublist_iter.next, temp.next, sublist_head.next = (temp.next,\n",
    "                                                           sublist_head.next,\n",
    "                                                           temp)\n",
    "    return dummy_head.next"
   ]
  },
  {
   "cell_type": "markdown",
   "metadata": {},
   "source": [
    "7.3 Has circle"
   ]
  },
  {
   "cell_type": "code",
   "execution_count": null,
   "metadata": {},
   "outputs": [],
   "source": [
    "import functools\n",
    "def has_cycle(head):\n",
    "    def cycle_len(end):\n",
    "        start, step = end, 0\n",
    "        while True:\n",
    "            step += 1\n",
    "            start = start.next\n",
    "            if start is end:\n",
    "                return step\n",
    "    fast = slow = head\n",
    "    while fast and fast.next and fast.next.next:\n",
    "        slow, fast = slow.next, fast.next.next\n",
    "        if slow is fast:\n",
    "            # Finds the start of the cycle.\n",
    "            cycle_len_advanced_iter = head\n",
    "            for _ in range(cycle_len(slow)):\n",
    "                cycle_len_advanced_iter = cycle_len_advanced_iter.next\n",
    "            it = head\n",
    "            # Both iterators advance in tandem.\n",
    "            while it is not cycle_len_advanced_iter:\n",
    "                it = it.next\n",
    "                cycle_len_advanced_iter = cycle_len_advanced_iter.next\n",
    "            return it  # iter is the start of cycle.\n",
    "    return None  # No cycle."
   ]
  },
  {
   "cell_type": "markdown",
   "metadata": {},
   "source": [
    "8.1"
   ]
  },
  {
   "cell_type": "code",
   "execution_count": null,
   "metadata": {},
   "outputs": [],
   "source": []
  },
  {
   "cell_type": "markdown",
   "metadata": {},
   "source": [
    "8.7 Binary Tree. Return keys at the same level"
   ]
  },
  {
   "cell_type": "code",
   "execution_count": null,
   "metadata": {},
   "outputs": [],
   "source": []
  },
  {
   "cell_type": "markdown",
   "metadata": {},
   "source": [
    "9.1 Is balanced binary tree"
   ]
  },
  {
   "cell_type": "code",
   "execution_count": null,
   "metadata": {},
   "outputs": [],
   "source": []
  },
  {
   "cell_type": "code",
   "execution_count": null,
   "metadata": {},
   "outputs": [],
   "source": [
    "import collections\n",
    "\n",
    "from test_framework import generic_test\n",
    "\n",
    "\n",
    "def is_balanced_binary_tree(tree):\n",
    "\n",
    "    BalancedStatusWithHeight = collections.namedtuple(\n",
    "        'BalancedStatusWithHeight', ('balanced', 'height'))\n",
    "\n",
    "    # First value of the return value indicates if tree is balanced, and if\n",
    "    # balanced the second value of the return value is the height of tree.\n",
    "    def check_balanced(tree):\n",
    "        if not tree:\n",
    "            return BalancedStatusWithHeight(True, -1)  # Base case.\n",
    "\n",
    "        left_result = check_balanced(tree.left)\n",
    "        if not left_result.balanced:\n",
    "            # Left subtree is not balanced.\n",
    "            return BalancedStatusWithHeight(False, 0)\n",
    "\n",
    "        right_result = check_balanced(tree.right)\n",
    "        if not right_result.balanced:\n",
    "            # Right subtree is not balanced.\n",
    "            return BalancedStatusWithHeight(False, 0)\n",
    "\n",
    "        is_balanced = abs(left_result.height - right_result.height) <= 1\n",
    "        height = max(left_result.height, right_result.height) + 1\n",
    "        return BalancedStatusWithHeight(is_balanced, height)\n",
    "\n",
    "    return check_balanced(tree).balanced"
   ]
  },
  {
   "cell_type": "markdown",
   "metadata": {},
   "source": [
    "9.4LCA"
   ]
  },
  {
   "cell_type": "code",
   "execution_count": null,
   "metadata": {},
   "outputs": [],
   "source": [
    "import collections\n",
    "import functools\n",
    "def lca(tree, node0, node1):\n",
    "    Status = collections.namedtuple('Status', ('num_target_nodes', 'ancestor'))\n",
    "    # Returns an object consisting of an int and a node. The int field is 0,\n",
    "    # 1, or 2 depending on how many of {node0, node1} are present in tree. If\n",
    "    # both are present in tree, when ancestor is assigned to a non-null value,\n",
    "    # it is the LCA.\n",
    "    def lca_helper(tree, node0, node1):\n",
    "        if not tree:\n",
    "            return Status(0, None)\n",
    "        left_result = lca_helper(tree.left, node0, node1)\n",
    "        if left_result.num_target_nodes == 2:\n",
    "            # Found both nodes in the left subtree.\n",
    "            return left_result\n",
    "        right_result = lca_helper(tree.right, node0, node1)\n",
    "        if right_result.num_target_nodes == 2:\n",
    "            # Found both nodes in the right subtree.\n",
    "            return right_result\n",
    "        num_target_nodes = (\n",
    "            left_result.num_target_nodes + right_result.num_target_nodes +\n",
    "            (node0, node1).count(tree))\n",
    "        return Status(num_target_nodes, tree\n",
    "                      if num_target_nodes == 2 else None)\n",
    "    return lca_helper(tree, node0, node1).ancestor"
   ]
  },
  {
   "cell_type": "markdown",
   "metadata": {},
   "source": [
    "10.1 Merge sorted arrays"
   ]
  },
  {
   "cell_type": "code",
   "execution_count": null,
   "metadata": {},
   "outputs": [],
   "source": [
    "import heapq\n",
    "def merge_sorted_arrays(sorted_arrays):\n",
    "\n",
    "    min_heap = []\n",
    "    # Builds a list of iterators for each array in sorted_arrays.\n",
    "    sorted_arrays_iters = [iter(x) for x in sorted_arrays]\n",
    "\n",
    "    # Puts first element from each iterator in min_heap.\n",
    "    for i, it in enumerate(sorted_arrays_iters):\n",
    "        first_element = next(it, None)\n",
    "        if first_element is not None:\n",
    "            heapq.heappush(min_heap, (first_element, i))\n",
    "\n",
    "    result = []\n",
    "    while min_heap:\n",
    "        smallest_entry, smallest_array_i = heapq.heappop(min_heap)\n",
    "        smallest_array_iter = sorted_arrays_iters[smallest_array_i]\n",
    "        result.append(smallest_entry)\n",
    "        next_element = next(smallest_array_iter, None)\n",
    "        if next_element is not None:\n",
    "            heapq.heappush(min_heap, (next_element, smallest_array_i))\n",
    "    return result"
   ]
  },
  {
   "cell_type": "markdown",
   "metadata": {},
   "source": [
    "10.4 Closet k stars"
   ]
  },
  {
   "cell_type": "code",
   "execution_count": null,
   "metadata": {},
   "outputs": [],
   "source": [
    "import heapq\n",
    "import math\n",
    "\n",
    "from test_framework import generic_test\n",
    "from test_framework.test_utils import enable_executor_hook\n",
    "\n",
    "\n",
    "class Star:\n",
    "    def __init__(self, x, y, z):\n",
    "        self.x, self.y, self.z = x, y, z\n",
    "\n",
    "    def distance(self):\n",
    "        return math.sqrt(self.x**2 + self.y**2 + self.z**2)\n",
    "\n",
    "    def __lt__(self, rhs):\n",
    "        return self.distance < rhs.distance\n",
    "\n",
    "    def __repr__(self):\n",
    "        return str(self.distance)\n",
    "\n",
    "    def __str__(self):\n",
    "        return self.__repr__()\n",
    "\n",
    "    def __eq__(self, rhs):\n",
    "        return math.isclose(self.distance, rhs.distance)\n",
    "\n",
    "\n",
    "def find_closest_k_stars(stars, k):\n",
    "\n",
    "    # max_heap to store the closest k stars seen so far.\n",
    "    max_heap = []\n",
    "    for star in stars:\n",
    "        # Add each star to the max-heap. If the max-heap size exceeds k, remove\n",
    "        # the maximum element from the max-heap.\n",
    "        # As python has only min-heap, insert tuple (negative of distance, star)\n",
    "        # to sort in reversed distance order.\n",
    "        heapq.heappush(max_heap, (-star.distance, star))\n",
    "        if len(max_heap) == k + 1:\n",
    "            heapq.heappop(max_heap)\n",
    "\n",
    "    # Iteratively extract from the max-heap, which yields the stars sorted\n",
    "    # according from furthest to closest.\n",
    "    return [s[1] for s in heapq.nlargest(k, max_heap)]"
   ]
  },
  {
   "cell_type": "code",
   "execution_count": null,
   "metadata": {},
   "outputs": [],
   "source": [
    "11.1 Search a sorted array for first occurrence of K"
   ]
  },
  {
   "cell_type": "code",
   "execution_count": null,
   "metadata": {},
   "outputs": [],
   "source": [
    "import bisect\n",
    "def search_first_of_k(A, k):\n",
    "    left, right, result = 0, len(A) - 1, -1\n",
    "    # A[left:right + 1] is the candidate set.\n",
    "    while left <= right:\n",
    "        mid = (left + right) // 2\n",
    "        if A[mid] > k:\n",
    "            right = mid - 1\n",
    "        elif A[mid] == k:\n",
    "            result = mid\n",
    "            right = mid - 1  # Nothing to the right of mid can be solution.\n",
    "        else:  # A[mid] < k.\n",
    "            left = mid + 1\n",
    "    return result"
   ]
  },
  {
   "cell_type": "markdown",
   "metadata": {},
   "source": [
    "11.4 Compute the integer Square-root\n",
    "Takes a nonnegtive integer and returns the largest integer whose square is less than or equal to the given integer"
   ]
  },
  {
   "cell_type": "code",
   "execution_count": null,
   "metadata": {},
   "outputs": [],
   "source": [
    "def square_root(k):\n",
    "    left, right = 0, k\n",
    "    # Candidate interval [left, right] where everything before left has square\n",
    "    # <= k, everything after right has square > k.\n",
    "    while left <= right:\n",
    "        mid = (left + right) // 2\n",
    "        mid_squared = mid * mid\n",
    "        if mid_squared <= k:\n",
    "            left = mid + 1\n",
    "        else:\n",
    "            right = mid - 1\n",
    "    return left - 1"
   ]
  },
  {
   "cell_type": "code",
   "execution_count": null,
   "metadata": {},
   "outputs": [],
   "source": [
    "11.8 Find the kth largest element Time O(n) Space O(1)"
   ]
  },
  {
   "cell_type": "code",
   "execution_count": null,
   "metadata": {},
   "outputs": [],
   "source": [
    "import operator\n",
    "import random\n",
    "# The numbering starts from one, i.e., if A = [3, 1, -1, 2]\n",
    "# find_kth_largest(1, A) returns 3, find_kth_largest(2, A) returns 2,\n",
    "# find_kth_largest(3, A) returns 1, and find_kth_largest(4, A) returns -1.\n",
    "def find_kth_largest(k, A):\n",
    "    def find_kth(comp):\n",
    "        # Partition A[left:right + 1] around pivot_idx, returns the new index of\n",
    "        # the pivot, new_pivot_idx, after partition. After partitioning,\n",
    "        # A[left:new_pivot_idx] contains elements that are \"greater than\" the\n",
    "        # pivot, and A[new_pivot_idx + 1:right + 1] contains elements that are\n",
    "        # \"less than\" the pivot.\n",
    "        #\n",
    "        # Note: \"greater than\" and \"less than\" are defined by the comp object.\n",
    "        #\n",
    "        # Returns the new index of the pivot element after partition.\n",
    "        def partition_around_pivot(left, right, pivot_idx):\n",
    "            pivot_value = A[pivot_idx]\n",
    "            new_pivot_idx = left\n",
    "            A[pivot_idx], A[right] = A[right], A[pivot_idx]\n",
    "            for i in range(left, right):\n",
    "                if comp(A[i], pivot_value):\n",
    "                    A[i], A[new_pivot_idx] = A[new_pivot_idx], A[i]\n",
    "                    new_pivot_idx += 1\n",
    "            A[right], A[new_pivot_idx] = A[new_pivot_idx], A[right]\n",
    "            return new_pivot_idx\n",
    "\n",
    "        left, right = 0, len(A) - 1\n",
    "        while left <= right:\n",
    "            # Generates a random integer in [left, right].\n",
    "            pivot_idx = random.randint(left, right)\n",
    "            new_pivot_idx = partition_around_pivot(left, right, pivot_idx)\n",
    "            if new_pivot_idx == k - 1:\n",
    "                return A[new_pivot_idx]\n",
    "            elif new_pivot_idx > k - 1:\n",
    "                right = new_pivot_idx - 1\n",
    "            else:  # new_pivot_idx < k - 1.\n",
    "                left = new_pivot_idx + 1\n",
    "\n",
    "        raise IndexError('no k-th node in array A')\n",
    "\n",
    "    return find_kth(operator.gt)\n",
    "\n",
    "# The numbering starts from one, i.e., if A = [3, 1, -1, 2] then\n",
    "# find_kth_smallest(1, A) returns -1, find_kth_smallest(2, A) returns 1,\n",
    "# find_kth_smallest(3, A) returns 2, and find_kth_smallest(4, A) returns 3.\n",
    "def find_kth_smallest(k, A):\n",
    "    def find_kth(comp):\n",
    "        # Partition A[left:right + 1] around pivot_idx, returns the new index of\n",
    "        # the pivot, new_pivot_idx, after partition. After partitioning,\n",
    "        # A[left:new_pivot_idx] contains elements that are \"greater than\" the\n",
    "        # pivot, and A[new_pivot_idx + 1:right + 1] contains elements that are\n",
    "        # \"less than\" the pivot.\n",
    "        #\n",
    "        # Note: \"greater than\" and \"less than\" are defined by the comp object.\n",
    "        #\n",
    "        # Returns the new index of the pivot element after partition.\n",
    "        def partition_around_pivot(left, right, pivot_idx):\n",
    "            pivot_value = A[pivot_idx]\n",
    "            new_pivot_idx = left\n",
    "            A[pivot_idx], A[right] = A[right], A[pivot_idx]\n",
    "            for i in range(left, right):\n",
    "                if comp(A[i], pivot_value):\n",
    "                    A[i], A[new_pivot_idx] = A[new_pivot_idx], A[i]\n",
    "                    new_pivot_idx += 1\n",
    "            A[right], A[new_pivot_idx] = A[new_pivot_idx], A[right]\n",
    "            return new_pivot_idx\n",
    "\n",
    "        left, right = 0, len(A) - 1\n",
    "        while left <= right:\n",
    "            # Generates a random integer in [left, right].\n",
    "            pivot_idx = random.randint(left, right)\n",
    "            new_pivot_idx = partition_around_pivot(left, right, pivot_idx)\n",
    "            if new_pivot_idx == k - 1:\n",
    "                return A[new_pivot_idx]\n",
    "            elif new_pivot_idx > k - 1:\n",
    "                right = new_pivot_idx - 1\n",
    "            else:  # new_pivot_idx < k - 1.\n",
    "                left = new_pivot_idx + 1\n",
    "        raise IndexError('no k-th node in array A')\n",
    "\n",
    "    return find_kth(operator.lt)"
   ]
  },
  {
   "cell_type": "code",
   "execution_count": null,
   "metadata": {},
   "outputs": [],
   "source": [
    "12.2 Is an anonymous letter constructable"
   ]
  },
  {
   "cell_type": "code",
   "execution_count": null,
   "metadata": {},
   "outputs": [],
   "source": []
  },
  {
   "cell_type": "markdown",
   "metadata": {},
   "source": [
    "12.3 LRU_Cache: Least Recently Used policy for cashe eviction. \n",
    "\n",
    "Use Hash table for fast lookups,with O(1)lookup time on cache hits, inserts.\n",
    "\n",
    "    Lazy garbage collection\n",
    "    \n",
    "    Make a separate queue of keys page 167"
   ]
  },
  {
   "cell_type": "code",
   "execution_count": null,
   "metadata": {},
   "outputs": [],
   "source": [
    "import collections\n",
    "class LruCache:\n",
    "    def __init__(self, capacity):\n",
    "\n",
    "        self._isbn_price_table = collections.OrderedDict()\n",
    "        self._capacity = capacity\n",
    "\n",
    "    def lookup(self, isbn):\n",
    "\n",
    "        if isbn not in self._isbn_price_table:\n",
    "            return -1\n",
    "        price = self._isbn_price_table.pop(isbn)\n",
    "        self._isbn_price_table[isbn] = price\n",
    "        return price\n",
    "\n",
    "    def insert(self, isbn, price):\n",
    "\n",
    "        # We add the value for key only if key is not present - we don't update\n",
    "        # existing values.\n",
    "        if isbn in self._isbn_price_table:\n",
    "            price = self._isbn_price_table.pop(isbn)\n",
    "        elif len(self._isbn_price_table) == self._capacity:\n",
    "            self._isbn_price_table.popitem(last=False)\n",
    "        self._isbn_price_table[isbn] = price\n",
    "\n",
    "    def erase(self, isbn):\n",
    "\n",
    "        return self._isbn_price_table.pop(isbn, None) is not None\n",
    "    \n",
    "#O(1) for hash table lookup, updating the queue."
   ]
  },
  {
   "cell_type": "markdown",
   "metadata": {},
   "source": [
    "12.6 Find the nearest repeated entries in an array\n",
    "\n",
    "nearest_repeated_entries.py"
   ]
  },
  {
   "cell_type": "code",
   "execution_count": null,
   "metadata": {},
   "outputs": [],
   "source": [
    "def find_nearest_repetition(paragraph):\n",
    "\n",
    "    word_to_latest_index, nearest_repeated_distance = {}, float('inf')\n",
    "    for i, word in enumerate(paragraph):\n",
    "        if word in word_to_latest_index:\n",
    "            latest_equal_word = word_to_latest_index[word]\n",
    "            nearest_repeated_distance = min(nearest_repeated_distance,\n",
    "                                            i - latest_equal_word)\n",
    "        word_to_latest_index[word] = i\n",
    "    return nearest_repeated_distance if nearest_repeated_distance != float(\n",
    "        'inf') else -1"
   ]
  },
  {
   "cell_type": "code",
   "execution_count": null,
   "metadata": {},
   "outputs": [],
   "source": [
    "13.1 Compute the intersection of two sorted arrays"
   ]
  },
  {
   "cell_type": "code",
   "execution_count": null,
   "metadata": {},
   "outputs": [],
   "source": [
    "def intersect_two_sorted_arrays(A, B):\n",
    "    return [a for i, a in enumerate(A) if (i == 0 or a != A[i - 1]) and a in B]"
   ]
  },
  {
   "cell_type": "code",
   "execution_count": 8,
   "metadata": {},
   "outputs": [],
   "source": [
    "A=[1,3,5,7]\n",
    "B=[2,4,6,8]\n",
    "import bisect\n",
    "def intersect_two_sorted_arryas(A,B):\n",
    "    def is_present(k):\n",
    "        i=bisect.bisect_left(B,k)\n",
    "        return i<len(B) and B[i]==k\n",
    "    return [a for i,a in enumerate(A)\n",
    "            if(i==0 or a!=A[i-1]) and is_present(a)\n",
    "           ]"
   ]
  },
  {
   "cell_type": "markdown",
   "metadata": {},
   "source": [
    "13.2 Merge two sorted array\n",
    "Writing the results back into the first array to save space"
   ]
  },
  {
   "cell_type": "code",
   "execution_count": null,
   "metadata": {},
   "outputs": [],
   "source": [
    "def merge_two_sorted_arrays(A, m, B, n):\n",
    "    a, b, write_idx = m - 1, n - 1, m + n - 1\n",
    "    while a >= 0 and b >= 0:\n",
    "        if A[a] > B[b]:\n",
    "            A[write_idx] = A[a]\n",
    "            a -= 1\n",
    "        else:\n",
    "            A[write_idx] = B[b]\n",
    "            b -= 1\n",
    "        write_idx -= 1\n",
    "    while b >= 0:\n",
    "        A[write_idx] = B[b]\n",
    "        write_idx, b = write_idx - 1, b - 1"
   ]
  },
  {
   "cell_type": "markdown",
   "metadata": {},
   "source": [
    "14.1 Check if a binary tree is binary search tree\n",
    "Node greater than or equal to left node; Node less than or equal to the right node."
   ]
  },
  {
   "cell_type": "code",
   "execution_count": null,
   "metadata": {},
   "outputs": [],
   "source": [
    "def is_binary_tree_bst(tree, low_range=float('-inf'), high_range=float('inf')):\n",
    "    if not tree:\n",
    "        return True\n",
    "    elif not low_range <= tree.data <= high_range:\n",
    "        return False\n",
    "    return (is_binary_tree_bst(tree.left, low_range, tree.data)\n",
    "            and is_binary_tree_bst(tree.right, tree.data, high_range))"
   ]
  },
  {
   "cell_type": "markdown",
   "metadata": {},
   "source": [
    "14.2 Find the first key greater than a given value in a BST"
   ]
  },
  {
   "cell_type": "code",
   "execution_count": null,
   "metadata": {},
   "outputs": [],
   "source": [
    "def find_first_greater_than_k(tree, k):\n",
    "    subtree, first_so_far = tree, None\n",
    "    while subtree:\n",
    "        if subtree.data > k:\n",
    "            first_so_far, subtree = subtree, subtree.left\n",
    "        else:  # Root and all keys in left subtree are <= k, so skip them.\n",
    "            subtree = subtree.right\n",
    "    return first_so_far"
   ]
  },
  {
   "cell_type": "markdown",
   "metadata": {},
   "source": [
    "14.3 FInd the the K largest elements in a BST\n",
    "\n",
    "Inorder traversal"
   ]
  },
  {
   "cell_type": "code",
   "execution_count": null,
   "metadata": {},
   "outputs": [],
   "source": [
    "def find_k_largest_in_bst(tree, k):\n",
    "    def find_k_largest_in_bst_helper(tree):\n",
    "        # Perform reverse inorder traversal.\n",
    "        if tree and len(k_largest_elements) < k:\n",
    "            find_k_largest_in_bst_helper(tree.right)\n",
    "            if len(k_largest_elements) < k:\n",
    "                k_largest_elements.append(tree.data)\n",
    "                find_k_largest_in_bst_helper(tree.left)\n",
    "    k_largest_elements = []\n",
    "    find_k_largest_in_bst_helper(tree)\n",
    "    return k_largest_elements"
   ]
  },
  {
   "cell_type": "markdown",
   "metadata": {},
   "source": [
    "15.1 Recursion: The tower of hanoi problem"
   ]
  },
  {
   "cell_type": "code",
   "execution_count": null,
   "metadata": {},
   "outputs": [],
   "source": [
    "NUM_PEGS = 3\n",
    "def compute_tower_hanoi(num_rings):\n",
    "    def compute_tower_hanoi_steps(num_rings_to_move, from_peg, to_peg,\n",
    "                                  use_peg):\n",
    "        if num_rings_to_move > 0:\n",
    "            compute_tower_hanoi_steps(num_rings_to_move - 1, from_peg, use_peg,\n",
    "                                      to_peg)\n",
    "            pegs[to_peg].append(pegs[from_peg].pop())\n",
    "            result.append([from_peg, to_peg])\n",
    "            compute_tower_hanoi_steps(num_rings_to_move - 1, use_peg, to_peg,\n",
    "                                      from_peg)\n",
    "\n",
    "    # Initialize pegs.\n",
    "    result = []\n",
    "    pegs = [list(reversed(range(1, num_rings + 1)))] + [[] for _ in range(\n",
    "        1, NUM_PEGS)]\n",
    "    compute_tower_hanoi_steps(num_rings, 0, 1, 2)\n",
    "    return result"
   ]
  },
  {
   "cell_type": "markdown",
   "metadata": {},
   "source": [
    "15.2 Noattacking placement of queens"
   ]
  },
  {
   "cell_type": "code",
   "execution_count": null,
   "metadata": {},
   "outputs": [],
   "source": [
    "def n_queens(n):\n",
    "    def solve_n_queens(row):\n",
    "        if row == n:\n",
    "            # All queens are legally placed.\n",
    "            result.append(list(col_placement))\n",
    "            return\n",
    "        for col in range(n):\n",
    "            # Test if a newly placed queen will conflict any earlier queens\n",
    "            # placed before.\n",
    "            if all(\n",
    "                    abs(c - col) not in (0, row - i)\n",
    "                    for i, c in enumerate(col_placement[:row])):\n",
    "                col_placement[row] = col\n",
    "                solve_n_queens(row + 1)\n",
    "\n",
    "    result, col_placement = [], [0] * n\n",
    "    solve_n_queens(0)\n",
    "    return result"
   ]
  },
  {
   "cell_type": "markdown",
   "metadata": {},
   "source": [
    "16.1 The goal of dynamic programing and difference from divide and conqure is \"minimizing cache space\"\n",
    "\n",
    "Count the number of score combinations"
   ]
  },
  {
   "cell_type": "code",
   "execution_count": null,
   "metadata": {},
   "outputs": [],
   "source": [
    "def num_combinations_for_final_score(final_score, individual_play_scores):\n",
    "    # One way to reach 0.\n",
    "    num_combinations_for_score = [[1] + [0] * final_score\n",
    "                                  for _ in individual_play_scores]\n",
    "    for i in range(len(individual_play_scores)):\n",
    "        for j in range(1, final_score + 1):\n",
    "            without_this_play = (num_combinations_for_score[i - 1][j]\n",
    "                                 if i >= 1 else 0)\n",
    "            with_this_play = (\n",
    "                num_combinations_for_score[i][j - individual_play_scores[i]]\n",
    "                if j >= individual_play_scores[i] else 0)\n",
    "            num_combinations_for_score[i][j] = (\n",
    "                without_this_play + with_this_play)\n",
    "    return num_combinations_for_score[-1][-1]"
   ]
  },
  {
   "cell_type": "markdown",
   "metadata": {},
   "source": [
    "16.2 Levenshtein distance"
   ]
  },
  {
   "cell_type": "code",
   "execution_count": null,
   "metadata": {},
   "outputs": [],
   "source": [
    "def levenshtein_distance(A, B):\n",
    "    def compute_distance_between_prefixes(A_idx, B_idx):\n",
    "        if A_idx < 0:\n",
    "            # A is empty so add all of B's characters.\n",
    "            return B_idx + 1\n",
    "        elif B_idx < 0:\n",
    "            # B is empty so delete all of A's characters.\n",
    "            return A_idx + 1\n",
    "        if distance_between_prefixes[A_idx][B_idx] == -1:\n",
    "            if A[A_idx] == B[B_idx]:\n",
    "                distance_between_prefixes[A_idx][B_idx] = (\n",
    "                    compute_distance_between_prefixes(A_idx - 1, B_idx - 1))\n",
    "            else:\n",
    "                substitute_last = compute_distance_between_prefixes(\n",
    "                    A_idx - 1, B_idx - 1)\n",
    "                add_last = compute_distance_between_prefixes(A_idx - 1, B_idx)\n",
    "                delete_last = compute_distance_between_prefixes(\n",
    "                    A_idx, B_idx - 1)\n",
    "                distance_between_prefixes[A_idx][B_idx] = (\n",
    "                    1 + min(substitute_last, add_last, delete_last))\n",
    "        return distance_between_prefixes[A_idx][B_idx]\n",
    "\n",
    "    distance_between_prefixes = [[-1] * len(B) for _ in A]\n",
    "    return compute_distance_between_prefixes(len(A) - 1, len(B) - 1)"
   ]
  },
  {
   "cell_type": "markdown",
   "metadata": {},
   "source": [
    "17.4 Greedy algorithms and Invariants\n",
    "3 sum"
   ]
  },
  {
   "cell_type": "code",
   "execution_count": null,
   "metadata": {},
   "outputs": [],
   "source": [
    "def has_two_sum(A, t):\n",
    "    i, j = 0, len(A) - 1\n",
    "    while i <= j:\n",
    "        if A[i] + A[j] == t:\n",
    "            return True\n",
    "        elif A[i] + A[j] < t:\n",
    "            i += 1\n",
    "        else:  # A[i] + A[j] > t.\n",
    "            j -= 1\n",
    "    return False\n",
    "\n",
    "def has_three_sum(A, t):\n",
    "    A.sort()\n",
    "    # Finds if the sum of two numbers in A equals to t - a.\n",
    "    return any(has_two_sum(A, t - a) for a in A)\n",
    "\n",
    "#space complexity is O(1)\n",
    "#Time: Sort O(nlogn) loop an array O(n) total O(n^2)"
   ]
  },
  {
   "cell_type": "code",
   "execution_count": null,
   "metadata": {},
   "outputs": [],
   "source": [
    "17.6"
   ]
  },
  {
   "cell_type": "code",
   "execution_count": null,
   "metadata": {},
   "outputs": [],
   "source": []
  },
  {
   "cell_type": "code",
   "execution_count": null,
   "metadata": {},
   "outputs": [],
   "source": [
    "18.1"
   ]
  },
  {
   "cell_type": "code",
   "execution_count": null,
   "metadata": {},
   "outputs": [],
   "source": []
  },
  {
   "cell_type": "code",
   "execution_count": null,
   "metadata": {},
   "outputs": [],
   "source": [
    "18.7"
   ]
  },
  {
   "cell_type": "code",
   "execution_count": null,
   "metadata": {},
   "outputs": [],
   "source": []
  },
  {
   "cell_type": "code",
   "execution_count": null,
   "metadata": {},
   "outputs": [],
   "source": [
    "19.3"
   ]
  },
  {
   "cell_type": "code",
   "execution_count": null,
   "metadata": {},
   "outputs": [],
   "source": []
  },
  {
   "cell_type": "code",
   "execution_count": null,
   "metadata": {},
   "outputs": [],
   "source": [
    "19.6"
   ]
  },
  {
   "cell_type": "code",
   "execution_count": null,
   "metadata": {},
   "outputs": [],
   "source": []
  },
  {
   "cell_type": "code",
   "execution_count": null,
   "metadata": {},
   "outputs": [],
   "source": [
    "20.13"
   ]
  },
  {
   "cell_type": "code",
   "execution_count": null,
   "metadata": {},
   "outputs": [],
   "source": []
  },
  {
   "cell_type": "code",
   "execution_count": null,
   "metadata": {},
   "outputs": [],
   "source": [
    "20.15"
   ]
  },
  {
   "cell_type": "code",
   "execution_count": null,
   "metadata": {},
   "outputs": [],
   "source": []
  }
 ],
 "metadata": {
  "kernelspec": {
   "display_name": "Python 3",
   "language": "python",
   "name": "python3"
  },
  "language_info": {
   "codemirror_mode": {
    "name": "ipython",
    "version": 3
   },
   "file_extension": ".py",
   "mimetype": "text/x-python",
   "name": "python",
   "nbconvert_exporter": "python",
   "pygments_lexer": "ipython3",
   "version": "3.6.8"
  }
 },
 "nbformat": 4,
 "nbformat_minor": 2
}
